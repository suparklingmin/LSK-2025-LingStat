{
 "cells": [
  {
   "cell_type": "code",
   "execution_count": 1,
   "id": "d7a62f51",
   "metadata": {},
   "outputs": [],
   "source": [
    "import pandas as pd\n",
    "from numpy import nan"
   ]
  },
  {
   "cell_type": "code",
   "execution_count": 2,
   "id": "4f820ea4",
   "metadata": {},
   "outputs": [
    {
     "name": "stdout",
     "output_type": "stream",
     "text": [
      "  speaker  age gender dialect  lexical_diversity\n",
      "0    S001   25      F   Seoul               0.82\n",
      "1    S002   34      M   Busan               0.76\n",
      "2    S003   28      F   Daegu               0.79\n",
      "3    S004   41      M   Seoul               0.85\n"
     ]
    }
   ],
   "source": [
    "data = {\n",
    "    'speaker': ['S001', 'S002', 'S003', 'S004'],\n",
    "    'age': [25, 34, 28, 41],\n",
    "    'gender': ['F', 'M', 'F', 'M'],\n",
    "    'dialect': ['Seoul', 'Busan', 'Daegu', 'Seoul'],\n",
    "    'lexical_diversity': [0.82, 0.76, 0.79, 0.85]\n",
    "}\n",
    "\n",
    "df = pd.DataFrame(data)\n",
    "print(df)"
   ]
  },
  {
   "cell_type": "code",
   "execution_count": 3,
   "id": "17deea45",
   "metadata": {},
   "outputs": [
    {
     "name": "stdout",
     "output_type": "stream",
     "text": [
      "speaker               object\n",
      "age                    int64\n",
      "gender                object\n",
      "dialect               object\n",
      "lexical_diversity    float64\n",
      "dtype: object\n"
     ]
    }
   ],
   "source": [
    "print(df.dtypes)"
   ]
  },
  {
   "cell_type": "code",
   "execution_count": 4,
   "id": "649c819e",
   "metadata": {},
   "outputs": [
    {
     "name": "stdout",
     "output_type": "stream",
     "text": [
      "    화자  고빈도_사람  고빈도_하다  저빈도_찬란\n",
      "0  P01     523     487     672\n",
      "1  P02     498     512     701\n",
      "2  P03     510     495     689\n"
     ]
    }
   ],
   "source": [
    "messy1_url = 'https://raw.githubusercontent.com/suparklingmin/LSK-2025-LingStat/refs/heads/main/data/messy1.csv'\n",
    "\n",
    "messy1_df = pd.read_csv(messy1_url)\n",
    "print(messy1_df)"
   ]
  }
 ],
 "metadata": {
  "kernelspec": {
   "display_name": "base",
   "language": "python",
   "name": "python3"
  },
  "language_info": {
   "codemirror_mode": {
    "name": "ipython",
    "version": 3
   },
   "file_extension": ".py",
   "mimetype": "text/x-python",
   "name": "python",
   "nbconvert_exporter": "python",
   "pygments_lexer": "ipython3",
   "version": "3.12.4"
  }
 },
 "nbformat": 4,
 "nbformat_minor": 5
}
