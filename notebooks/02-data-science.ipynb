{
 "cells": [
  {
   "cell_type": "markdown",
   "id": "c7f55462",
   "metadata": {},
   "source": [
    "# 2강 데이터 준비하기"
   ]
  },
  {
   "cell_type": "markdown",
   "id": "7d4acc21",
   "metadata": {},
   "source": [
    "## `pandas` 시작하기"
   ]
  },
  {
   "cell_type": "code",
   "execution_count": 9,
   "id": "d7a62f51",
   "metadata": {},
   "outputs": [],
   "source": [
    "import pandas as pd\n",
    "from numpy import nan"
   ]
  },
  {
   "cell_type": "code",
   "execution_count": 10,
   "id": "4f820ea4",
   "metadata": {},
   "outputs": [
    {
     "name": "stdout",
     "output_type": "stream",
     "text": [
      "  speaker  age gender dialect  lexical_diversity\n",
      "0    S001   25      F   Seoul               0.82\n",
      "1    S002   34      M   Busan               0.76\n",
      "2    S003   28      F   Daegu               0.79\n",
      "3    S004   41      M   Seoul               0.85\n"
     ]
    }
   ],
   "source": [
    "data = {\n",
    "    'speaker': ['S001', 'S002', 'S003', 'S004'],\n",
    "    'age': [25, 34, 28, 41],\n",
    "    'gender': ['F', 'M', 'F', 'M'],\n",
    "    'dialect': ['Seoul', 'Busan', 'Daegu', 'Seoul'],\n",
    "    'lexical_diversity': [0.82, 0.76, 0.79, 0.85]\n",
    "}\n",
    "\n",
    "df = pd.DataFrame(data)\n",
    "print(df)"
   ]
  },
  {
   "cell_type": "code",
   "execution_count": 11,
   "id": "17deea45",
   "metadata": {},
   "outputs": [
    {
     "name": "stdout",
     "output_type": "stream",
     "text": [
      "speaker               object\n",
      "age                    int64\n",
      "gender                object\n",
      "dialect               object\n",
      "lexical_diversity    float64\n",
      "dtype: object\n"
     ]
    }
   ],
   "source": [
    "print(df.dtypes)"
   ]
  },
  {
   "cell_type": "markdown",
   "id": "d222e961",
   "metadata": {},
   "source": [
    "## Tidy Data"
   ]
  },
  {
   "cell_type": "code",
   "execution_count": 24,
   "id": "a2585c0e",
   "metadata": {},
   "outputs": [
    {
     "name": "stdout",
     "output_type": "stream",
     "text": [
      "   참여자   조건  단어  반응시간\n",
      "0  P01  고빈도  사람   523\n",
      "1  P01  고빈도  하다   487\n",
      "2  P01  저빈도  찬란   672\n",
      "3  P02  고빈도  사람   498\n",
      "4  P02  고빈도  하다   512\n",
      "5  P02  저빈도  찬란   701\n",
      "6  P03  고빈도  사람   510\n",
      "7  P03  고빈도  하다   495\n",
      "8  P03  저빈도  찬란   689\n"
     ]
    }
   ],
   "source": [
    "tidy_url = 'https://raw.githubusercontent.com/suparklingmin/LSK-2025-LingStat/refs/heads/main/data/tidy.csv'\n",
    "\n",
    "tidy_df = pd.read_csv(tidy_url)\n",
    "print(tidy_df)"
   ]
  },
  {
   "cell_type": "markdown",
   "id": "fa4d9c09",
   "metadata": {},
   "source": [
    "### Wide to Long 변환"
   ]
  },
  {
   "cell_type": "code",
   "execution_count": 25,
   "id": "649c819e",
   "metadata": {},
   "outputs": [
    {
     "name": "stdout",
     "output_type": "stream",
     "text": [
      "   참여자  고빈도_사람  고빈도_하다  저빈도_찬란\n",
      "0  P01     523     487     672\n",
      "1  P02     498     512     701\n",
      "2  P03     510     495     689\n"
     ]
    }
   ],
   "source": [
    "messy1_url = 'https://raw.githubusercontent.com/suparklingmin/LSK-2025-LingStat/refs/heads/main/data/messy1.csv'\n",
    "\n",
    "messy1_df = pd.read_csv(messy1_url)\n",
    "print(messy1_df)"
   ]
  },
  {
   "cell_type": "code",
   "execution_count": null,
   "id": "fd7b887e",
   "metadata": {},
   "outputs": [
    {
     "name": "stdout",
     "output_type": "stream",
     "text": [
      "   참여자   조건_단어  반응시간\n",
      "0  P01  고빈도_사람   523\n",
      "1  P02  고빈도_사람   498\n",
      "2  P03  고빈도_사람   510\n",
      "3  P01  고빈도_하다   487\n",
      "4  P02  고빈도_하다   512\n",
      "5  P03  고빈도_하다   495\n",
      "6  P01  저빈도_찬란   672\n",
      "7  P02  저빈도_찬란   701\n",
      "8  P03  저빈도_찬란   689\n"
     ]
    }
   ],
   "source": [
    "messy2_df = pd.melt(\n",
    "    messy1_df,\n",
    "    id_vars=['참여자'],\n",
    "    var_name='조건_단어',\n",
    "    value_name='반응시간'\n",
    ")\n",
    "print(messy2_df)"
   ]
  },
  {
   "cell_type": "code",
   "execution_count": null,
   "id": "e94efc45",
   "metadata": {},
   "outputs": [
    {
     "name": "stdout",
     "output_type": "stream",
     "text": [
      "   참여자  반응시간   조건  단어\n",
      "0  P01   523  고빈도  사람\n",
      "1  P02   498  고빈도  사람\n",
      "2  P03   510  고빈도  사람\n",
      "3  P01   487  고빈도  하다\n",
      "4  P02   512  고빈도  하다\n",
      "5  P03   495  고빈도  하다\n",
      "6  P01   672  저빈도  찬란\n",
      "7  P02   701  저빈도  찬란\n",
      "8  P03   689  저빈도  찬란\n"
     ]
    }
   ],
   "source": [
    "tidy2_df = messy2_df.copy()\n",
    "tidy2_df[['조건', '단어']] = tidy2_df['조건_단어'].str.split('_', expand=True)\n",
    "tidy2_df = tidy2_df.drop('조건_단어', axis=1)\n",
    "print(tidy2_df)"
   ]
  },
  {
   "cell_type": "code",
   "execution_count": 35,
   "id": "a5ec65cf",
   "metadata": {},
   "outputs": [
    {
     "data": {
      "text/html": [
       "<div>\n",
       "<style scoped>\n",
       "    .dataframe tbody tr th:only-of-type {\n",
       "        vertical-align: middle;\n",
       "    }\n",
       "\n",
       "    .dataframe tbody tr th {\n",
       "        vertical-align: top;\n",
       "    }\n",
       "\n",
       "    .dataframe thead th {\n",
       "        text-align: right;\n",
       "    }\n",
       "</style>\n",
       "<table border=\"1\" class=\"dataframe\">\n",
       "  <thead>\n",
       "    <tr style=\"text-align: right;\">\n",
       "      <th></th>\n",
       "      <th>참여자</th>\n",
       "      <th>조건</th>\n",
       "      <th>단어</th>\n",
       "      <th>반응시간</th>\n",
       "    </tr>\n",
       "  </thead>\n",
       "  <tbody>\n",
       "    <tr>\n",
       "      <th>0</th>\n",
       "      <td>True</td>\n",
       "      <td>True</td>\n",
       "      <td>True</td>\n",
       "      <td>True</td>\n",
       "    </tr>\n",
       "    <tr>\n",
       "      <th>1</th>\n",
       "      <td>True</td>\n",
       "      <td>True</td>\n",
       "      <td>True</td>\n",
       "      <td>True</td>\n",
       "    </tr>\n",
       "    <tr>\n",
       "      <th>2</th>\n",
       "      <td>True</td>\n",
       "      <td>True</td>\n",
       "      <td>True</td>\n",
       "      <td>True</td>\n",
       "    </tr>\n",
       "    <tr>\n",
       "      <th>3</th>\n",
       "      <td>True</td>\n",
       "      <td>True</td>\n",
       "      <td>True</td>\n",
       "      <td>True</td>\n",
       "    </tr>\n",
       "    <tr>\n",
       "      <th>4</th>\n",
       "      <td>True</td>\n",
       "      <td>True</td>\n",
       "      <td>True</td>\n",
       "      <td>True</td>\n",
       "    </tr>\n",
       "    <tr>\n",
       "      <th>5</th>\n",
       "      <td>True</td>\n",
       "      <td>True</td>\n",
       "      <td>True</td>\n",
       "      <td>True</td>\n",
       "    </tr>\n",
       "    <tr>\n",
       "      <th>6</th>\n",
       "      <td>True</td>\n",
       "      <td>True</td>\n",
       "      <td>True</td>\n",
       "      <td>True</td>\n",
       "    </tr>\n",
       "    <tr>\n",
       "      <th>7</th>\n",
       "      <td>True</td>\n",
       "      <td>True</td>\n",
       "      <td>True</td>\n",
       "      <td>True</td>\n",
       "    </tr>\n",
       "    <tr>\n",
       "      <th>8</th>\n",
       "      <td>True</td>\n",
       "      <td>True</td>\n",
       "      <td>True</td>\n",
       "      <td>True</td>\n",
       "    </tr>\n",
       "  </tbody>\n",
       "</table>\n",
       "</div>"
      ],
      "text/plain": [
       "    참여자    조건    단어  반응시간\n",
       "0  True  True  True  True\n",
       "1  True  True  True  True\n",
       "2  True  True  True  True\n",
       "3  True  True  True  True\n",
       "4  True  True  True  True\n",
       "5  True  True  True  True\n",
       "6  True  True  True  True\n",
       "7  True  True  True  True\n",
       "8  True  True  True  True"
      ]
     },
     "execution_count": 35,
     "metadata": {},
     "output_type": "execute_result"
    }
   ],
   "source": [
    "tidy_df == tidy2_df[tidy_df.columns].sort_values('참여자', ignore_index=True)"
   ]
  },
  {
   "cell_type": "markdown",
   "id": "41ff5376",
   "metadata": {},
   "source": [
    "### Pivot 변환"
   ]
  },
  {
   "cell_type": "code",
   "execution_count": 41,
   "id": "eadbc30c",
   "metadata": {},
   "outputs": [
    {
     "name": "stdout",
     "output_type": "stream",
     "text": [
      "   참여자  측정항목     고빈도     저빈도\n",
      "0  P01  반응시간  505.00  672.00\n",
      "1  P01   정확도    0.95    0.82\n",
      "2  P02  반응시간  505.00  701.00\n",
      "3  P02   정확도    0.93    0.79\n",
      "4  P03  반응시간  502.50  689.00\n",
      "5  P03   정확도    0.94    0.81\n"
     ]
    }
   ],
   "source": [
    "messy3_url = 'https://raw.githubusercontent.com/suparklingmin/LSK-2025-LingStat/refs/heads/main/data/messy3.csv'\n",
    "\n",
    "messy3_df = pd.read_csv(messy3_url)\n",
    "print(messy3_df)"
   ]
  },
  {
   "cell_type": "code",
   "execution_count": 73,
   "id": "71a6a336",
   "metadata": {},
   "outputs": [
    {
     "name": "stdout",
     "output_type": "stream",
     "text": [
      "    참여자  측정항목   조건       값\n",
      "0   P01  반응시간  고빈도  505.00\n",
      "1   P01   정확도  고빈도    0.95\n",
      "2   P02  반응시간  고빈도  505.00\n",
      "3   P02   정확도  고빈도    0.93\n",
      "4   P03  반응시간  고빈도  502.50\n",
      "5   P03   정확도  고빈도    0.94\n",
      "6   P01  반응시간  저빈도  672.00\n",
      "7   P01   정확도  저빈도    0.82\n",
      "8   P02  반응시간  저빈도  701.00\n",
      "9   P02   정확도  저빈도    0.79\n",
      "10  P03  반응시간  저빈도  689.00\n",
      "11  P03   정확도  저빈도    0.81\n"
     ]
    }
   ],
   "source": [
    "messy4_df = pd.melt(\n",
    "    messy3_df,\n",
    "    id_vars=['참여자', '측정항목'],\n",
    "    var_name='조건',\n",
    "    value_name='값'\n",
    ")\n",
    "print(messy4_df)"
   ]
  },
  {
   "cell_type": "code",
   "execution_count": 98,
   "id": "7406c7a2",
   "metadata": {},
   "outputs": [
    {
     "name": "stdout",
     "output_type": "stream",
     "text": [
      "측정항목      반응시간   정확도\n",
      "참여자 조건              \n",
      "P01 고빈도  505.0  0.95\n",
      "    저빈도  672.0  0.82\n",
      "P02 고빈도  505.0  0.93\n",
      "    저빈도  701.0  0.79\n",
      "P03 고빈도  502.5  0.94\n",
      "    저빈도  689.0  0.81\n"
     ]
    }
   ],
   "source": [
    "tidy4_df = messy4_df.pivot(\n",
    "    index=['참여자', '조건'],\n",
    "    columns='측정항목',\n",
    "    values='값'\n",
    ")\n",
    "print(tidy4_df)"
   ]
  },
  {
   "cell_type": "code",
   "execution_count": 99,
   "id": "727116fa",
   "metadata": {},
   "outputs": [
    {
     "name": "stdout",
     "output_type": "stream",
     "text": [
      "측정항목  참여자   조건   반응시간   정확도\n",
      "0     P01  고빈도  505.0  0.95\n",
      "1     P01  저빈도  672.0  0.82\n",
      "2     P02  고빈도  505.0  0.93\n",
      "3     P02  저빈도  701.0  0.79\n",
      "4     P03  고빈도  502.5  0.94\n",
      "5     P03  저빈도  689.0  0.81\n"
     ]
    }
   ],
   "source": [
    "tidy4_df = tidy4_df.reset_index()\n",
    "print(tidy4_df)"
   ]
  },
  {
   "cell_type": "code",
   "execution_count": 96,
   "id": "e8741e7d",
   "metadata": {},
   "outputs": [
    {
     "name": "stdout",
     "output_type": "stream",
     "text": [
      "   참여자   조건   반응시간   정확도\n",
      "0  P01  고빈도  505.0  0.95\n",
      "1  P01  저빈도  672.0  0.82\n",
      "2  P02  고빈도  505.0  0.93\n",
      "3  P02  저빈도  701.0  0.79\n",
      "4  P03  고빈도  502.5  0.94\n",
      "5  P03  저빈도  689.0  0.81\n"
     ]
    }
   ],
   "source": [
    "tidy4_df.columns.name = None\n",
    "print(tidy4_df)"
   ]
  }
 ],
 "metadata": {
  "kernelspec": {
   "display_name": "base",
   "language": "python",
   "name": "python3"
  },
  "language_info": {
   "codemirror_mode": {
    "name": "ipython",
    "version": 3
   },
   "file_extension": ".py",
   "mimetype": "text/x-python",
   "name": "python",
   "nbconvert_exporter": "python",
   "pygments_lexer": "ipython3",
   "version": "3.12.4"
  }
 },
 "nbformat": 4,
 "nbformat_minor": 5
}
